{
 "cells": [
  {
   "cell_type": "markdown",
   "metadata": {},
   "source": [
    "Binome : Touzari Maya et Astouati Nawel"
   ]
  },
  {
   "cell_type": "markdown",
   "metadata": {},
   "source": [
    "## EXERCICE 1:\n"
   ]
  },
  {
   "cell_type": "code",
   "execution_count": 5,
   "metadata": {},
   "outputs": [
    {
     "name": "stdout",
     "output_type": "stream",
     "text": [
      "quelques exemples d'execution de la fonction my_expo_mod\n",
      "445\n",
      "24\n",
      "444\n"
     ]
    }
   ],
   "source": [
    "import time\n",
    "import matplotlib.pyplot as plt\n",
    "import random\n",
    "import math\n",
    "\n",
    "#1.a\n",
    "def my_gcd(a, b):\n",
    "    if b == 0:\n",
    "        return a\n",
    "    else:\n",
    "        r = a % b\n",
    "        return my_gcd(b, r)\n",
    "\n",
    "#fonction supplementaire pour my_inverse\n",
    "def bezout(a, b):\n",
    "    \"\"\"\n",
    "        Entrée : a, b entiers\n",
    "        Sorties : u, v entiers tels que a*u + b*v = r\n",
    "    \"\"\"\n",
    "    r, u = a, 1\n",
    "    rp, up = b, 0\n",
    "    while rp != 0:\n",
    "        q = r // rp\n",
    "        rs, us = r, u\n",
    "        r, u = rp, up\n",
    "        rp, up = (rs - q * rp), (us - q * up)\n",
    "    return r, u\n",
    "\n",
    "#1.b\n",
    "def my_inverse(a, N):\n",
    "\n",
    "    pgcd, u = bezout(a, N)\n",
    "    if pgcd == 1:\n",
    "        return u\n",
    "    else:\n",
    "        return -1\n",
    "\n",
    "#1.d\n",
    "def my_expo_mod(g, n, N):\n",
    "\n",
    "    n_ = (bin(n)[2:])[::-1]\n",
    "    l = len(n_)\n",
    "    h = 1\n",
    "    for i in range(l-1, -1, -1):\n",
    "        h = (h*h) % N\n",
    "        ai = int(n_[i])\n",
    "        if ai == 1:\n",
    "            h = (h * g) % N\n",
    "    return h\n",
    "print(\"quelques exemples d'execution de la fonction my_expo_mod\")\n",
    "print(my_expo_mod(4, 13, 497))\n",
    "print(my_expo_mod(2, 10, 500))\n",
    "print(my_expo_mod(3, 13, 497))"
   ]
  },
  {
   "cell_type": "code",
   "execution_count": 2,
   "metadata": {},
   "outputs": [
    {
     "name": "stdout",
     "output_type": "stream",
     "text": [
      "graphe de la complexité temporelle de la fonction my_inverse\n",
      "complexité temporelle (log(n))2\n"
     ]
    },
    {
     "data": {
      "image/png": "[encoded data removed]",
      "text/plain": [
       "<Figure size 432x288 with 1 Axes>"
      ]
     },
     "metadata": {
      "needs_background": "light"
     },
     "output_type": "display_data"
    }
   ],
   "source": [
    "def dessiner_courbe_mygcd():\n",
    "    gaps = []\n",
    "    N_ = []\n",
    "\n",
    "    for N in range(3, 6000):\n",
    "        N_.append(N)\n",
    "        start = time.time()\n",
    "        my_gcd(random.randint(2, N), random.randint(2, N))\n",
    "        gaps.append(time.time() - start)\n",
    "\n",
    "    plt.plot(N_, gaps)\n",
    "    plt.show()\n",
    "    \n",
    "def dessiner_courbe_myinverse():\n",
    "    gaps = []\n",
    "    N_ = []\n",
    "\n",
    "    for N in range(3, 6000):\n",
    "        N_.append(N)\n",
    "        start = time.time()\n",
    "        my_inverse(random.randint(2, N),N)\n",
    "        gaps.append(time.time() - start)\n",
    "\n",
    "    plt.plot(N_, gaps)\n",
    "    plt.show()\n",
    "print(\"graphe de la complexité temporelle de la fonction my_inverse\")\n",
    "print(\"complexité temporelle (log(n))2\")\n",
    "dessiner_courbe_myinverse()"
   ]
  },
  {
   "cell_type": "code",
   "execution_count": 3,
   "metadata": {},
   "outputs": [
    {
     "name": "stdout",
     "output_type": "stream",
     "text": [
      "graphe de la complexité temporelle de la fonction my_gcd\n"
     ]
    },
    {
     "data": {
      "image/png": "[encoded data removed]",
      "text/plain": [
       "<Figure size 432x288 with 1 Axes>"
      ]
     },
     "metadata": {
      "needs_background": "light"
     },
     "output_type": "display_data"
    }
   ],
   "source": [
    "print(\"graphe de la complexité temporelle de la fonction my_gcd\")\n",
    "dessiner_courbe_mygcd()"
   ]
  },
  {
   "cell_type": "markdown",
   "metadata": {},
   "source": [
    "La complexité temporelle théorique des deux algorithmes pgcd et inverse est en O($log(n)^2$)"
   ]
  },
  {
   "cell_type": "markdown",
   "metadata": {},
   "source": [
    "## EXERCICE 2:"
   ]
  },
  {
   "cell_type": "code",
   "execution_count": 6,
   "metadata": {},
   "outputs": [
    {
     "name": "stdout",
     "output_type": "stream",
     "text": [
      "nombre de nombres premiers inférieurs à 10^5 est : 9592\n"
     ]
    }
   ],
   "source": [
    "#2.a\n",
    "#2.b compléxité en o(racine(n))\n",
    "def first_test(N):\n",
    "    for i in range(2,math.floor(math.sqrt(N))+1):\n",
    "        if N%i==0:\n",
    "            return False\n",
    "    return True\n",
    "#2.c\n",
    "def nb_nombres_premier(n):\n",
    "    cpt=0\n",
    "    for i in range(2, n):\n",
    "        if(first_test(i)):\n",
    "            cpt=cpt+1\n",
    "    return cpt\n",
    "print(\"nombre de nombres premiers inférieurs à 10^5 est :\",nb_nombres_premier(10**5))\n",
    " "
   ]
  },
  {
   "cell_type": "code",
   "execution_count": 5,
   "metadata": {},
   "outputs": [
    {
     "name": "stdout",
     "output_type": "stream",
     "text": [
      "liste des nombres de carmichael inférieur à 10^5 [561, 1105, 1729, 2465, 2821, 6601, 8911, 10585, 15841, 29341, 41041, 46657, 52633, 62745, 63973, 75361]\n",
      "la fonction s'execute en 120.21648812294006 secondes\n"
     ]
    }
   ],
   "source": [
    "def carre_parfait(n):\n",
    "    if int(math.sqrt(n))*int(math.sqrt(n))==n:\n",
    "            return True\n",
    "    return False\n",
    "def list_diviseurs(n):\n",
    "    l=[]\n",
    "    for i in range(2,math.floor(n/2)):\n",
    "        if n%i==0:\n",
    "            l.append(i)\n",
    "    return l\n",
    "\n",
    "def gen_carmichael(n):\n",
    "    l=[]\n",
    "    for nb in range(2,n):\n",
    "        if nb%2==0:\n",
    "            continue\n",
    "        liste_diviseurs_nb=list_diviseurs(nb)\n",
    "        if(len(liste_diviseurs_nb)==0):\n",
    "            continue\n",
    "        b=True\n",
    "        i=0\n",
    "        if(carre_parfait(nb)):\n",
    "            b=False\n",
    "        while i<len(liste_diviseurs_nb) and b==True:\n",
    "            if(carre_parfait(liste_diviseurs_nb[i])):\n",
    "                b=False            \n",
    "            if(first_test(liste_diviseurs_nb[i])):\n",
    "                if (nb-1)%(liste_diviseurs_nb[i]-1)!=0:\n",
    "                    b=False\n",
    "            i=i+1\n",
    "        if b==True:\n",
    "            l.append(nb)\n",
    "    return l    \n",
    "s=time.time()\n",
    "print(\"liste des nombres de carmichael inférieur à 10^5\",gen_carmichael(10**5))\n",
    "s=time.time()-s\n",
    "print(\"la fonction s'execute en\",s,\"secondes\")"
   ]
  },
  {
   "cell_type": "code",
   "execution_count": 26,
   "metadata": {},
   "outputs": [
    {
     "name": "stdout",
     "output_type": "stream",
     "text": [
      "pour une longueur binaire de  10 resultat pour 5 minutes 561\n",
      "pour une longueur binaire de  11 resultat pour 5 minutes 1729\n",
      "pour une longueur binaire de  12 resultat pour 5 minutes 2821\n",
      "pour une longueur binaire de  13 resultat pour 5 minutes 6601\n",
      "pour une longueur binaire de  14 resultat pour 5 minutes 15841\n",
      "pour une longueur binaire de  15 resultat pour 5 minutes 29341\n",
      "pour une longueur binaire de  16 resultat pour 5 minutes 52633\n",
      "pour une longueur binaire de  17 resultat pour 5 minutes 0\n",
      "pour une longueur binaire de  18 resultat pour 5 minutes 0\n",
      "pour une longueur binaire de  19 resultat pour 5 minutes 0\n"
     ]
    }
   ],
   "source": [
    "#fonction qui retourne True si l'entier en entrée est un nombre de carmichael selon korselt False sinon\n",
    "def carmichael(nb):\n",
    "    if nb%2==0:\n",
    "            return False\n",
    "    liste_diviseurs_nb=list_diviseurs(nb)\n",
    "    if(len(liste_diviseurs_nb)==0):\n",
    "        return False\n",
    "    i=0\n",
    "    if(carre_parfait(nb)):\n",
    "        return False\n",
    "    while i<len(liste_diviseurs_nb):\n",
    "        if(carre_parfait(liste_diviseurs_nb[i])):\n",
    "            return False      \n",
    "        if(first_test(liste_diviseurs_nb[i])):\n",
    "            if (nb-1)%(liste_diviseurs_nb[i]-1)!=0:\n",
    "                return False\n",
    "        i=i+1\n",
    "    return True \n",
    "#fonction qui genere n nombres premiers en faisant appel a la fontion first_test\n",
    "def generer_nb_premiers(n):\n",
    "    l=[]\n",
    "    for i in range(2,n):\n",
    "        if first_test(i):\n",
    "            l.append(i)\n",
    "    return l\n",
    "\n",
    "#dans cette fonction on genere des nombres premiers et on cherche le plus grand nombre de carmichael à 3 facteurs en 5 min \n",
    "# d'ou la présence du time qui permet de s'arreter quand on dépasse 5min \n",
    "def gen_carmichael3(k1):\n",
    "    l=generer_nb_premiers(200)\n",
    "    max=0\n",
    "    s=time.time()\n",
    "    for i in range(0,len(l)):\n",
    "        for j in range(i+1,len(l)-1):\n",
    "            for k in range(j+1,len(l)-2):\n",
    "                nb=(l[i])*(l[j])*(l[k])\n",
    "                if time.time()-s > 300 :\n",
    "                    return max\n",
    "                if carmichael(nb) and int(math.log2(nb))+1==k1:\n",
    "                            if max<nb:\n",
    "                                max=nb\n",
    "for i in range(10,20):    \n",
    "    print(\"pour une longueur binaire de \", i, \"resultat pour 5 minutes\", gen_carmichael3(i))"
   ]
  },
  {
   "cell_type": "markdown",
   "metadata": {},
   "source": [
    "La fonction gen_carmichael3 retourne 0 lorsque elle prends plus de 5min pour generer un nombre de carmichael de longueur binaire k. On remarque que c'est le cas à partir de 17. On a commencé à partir de 10 car le plus petit nombre de carmichael est 561 et sa longueur binaire est 10."
   ]
  },
  {
   "cell_type": "markdown",
   "metadata": {},
   "source": [
    "2-g<br>\n",
    "1.Soit n un nombre de Carmichael de la forme pqr avec p < q < r trois nombres premiers. En utilisant le critere de Korselt, <br>\n",
    "montrons qu’il existe un entier $h ∈ {2, . . . , p − 1}$ tel que $(pq − 1) = h(r − 1).$<br>\n",
    "\n",
    "On a : $r - 1$ divise $n - 1$ ( critère de Korselt)<br>\n",
    "    donc il existe un entier $k$ tel que : $n - 1 = k(r - 1)$<br>\n",
    "    donc : <br>\n",
    ">$n - 1 = pqr – 1 $ <br>\n",
    ">&emsp;&emsp;$= pq(r - 1) + pq - 1 $ <br>\n",
    ">&emsp;&emsp;$= k(r-1)$ <br>\n",
    "\n",
    "donc<br>\n",
    ">$pq – 1 = k(r-1)- pq(r - 1)$ <br>\n",
    ">&emsp;&emsp;&emsp;&emsp;$= (k - pq)(r - 1)$ <br>\n",
    "           \n",
    "donc il existe un entier $h = k - pq$ tel que $(pq − 1) = h(r − 1)$ <br>"
   ]
  },
  {
   "cell_type": "markdown",
   "metadata": {},
   "source": [
    "2.Montrer qu’il existe un entier k tel que $(hk − p2)(q − 1) = (p + h)(p − 1)$.<br>\n",
    ">$(p + h)(p − 1) = p^2 + hp - p - h + p^2q - p^2q$ <br>\n",
    ">&emsp;&emsp;&emsp;&emsp;&emsp;&emsp;$= - p^2(q - 1) + hp - p - h + p^2q  $<br>\n",
    ">&emsp;&emsp;&emsp;&emsp;&emsp;&emsp;$= - p^2(q - 1) + hp - h + p(qr - 1) $<br>\n",
    ">&emsp;&emsp;&emsp;&emsp;&emsp;&emsp;$= - p^2(q - 1) + hp - h + ph(r - 1) $<br>\n",
    ">&emsp;&emsp;&emsp;&emsp;&emsp;&emsp;$= - p^2(q - 1) + h(p - 1 + p(r - 1)) $<br>\n",
    ">&emsp;&emsp;&emsp;&emsp;&emsp;&emsp;$= - p^2(q - 1) + h(pr - 1) $ (1)<br>\n",
    "\n",
    "D'autre part on a :<br>\n",
    ">&emsp;&emsp;&emsp;&emsp;&emsp;&emsp;$ n - 1 = pqr - 1 $<br>\n",
    ">&emsp;&emsp;&emsp;&emsp;&emsp;&emsp;&emsp;&emsp;$= pr (q - 1) + pr - 1$<br><br>\n",
    "\n",
    "Donc :<br>\n",
    ">&emsp;&emsp;&emsp;&emsp;&emsp;&emsp;$pr - 1 = pqr - 1 - pr (q - 1) $<br><br>\n",
    "\n",
    ">Comme $ q - 1 $ divise $ n - 1$ donc $ q - 1 $ divise $ pqr - 1 $ <br>\n",
    ">Il existe alors un entier a tel que  $ pqr - 1 = a (q - 1)$<br><br>\n",
    "\n",
    "Ce qui donne:<br>\n",
    ">&emsp;&emsp;&emsp;&emsp;&emsp;&emsp;$pr - 1 = pqr - 1 - pr (q - 1) = a (q - 1) - pr (q - 1) = (a - pr)(q - 1)$<br><br>\n",
    "\n",
    "En remplaçant dans la formule (1)<br>\n",
    "\n",
    ">&emsp;&emsp;&emsp;&emsp;&emsp;&emsp;$= - p^2(q - 1) + h(pr - 1) = - p^2(q - 1) + h(a - pr)(q - 1) $<br>\n",
    ">&emsp;&emsp;&emsp;&emsp;&emsp;&emsp;$= (h(a - pr) - p^2 ) (q - 1) $<br>\n",
    "\n",
    "Donc il existe un entier $k = (a - pr)$ tel que $(hk − p2)(q − 1) = (p + h)(p − 1)$\n",
    "\n",
    "\n"
   ]
  },
  {
   "cell_type": "markdown",
   "metadata": {},
   "source": [
    "3. Afin de conclure qu’il n’existe qu’un nombre fini de nombres de Carmichael de la forme $pqr$ avec $p < q < r$ trois nombres premiers pour $p$ fixe, il suffit de trouver une borne pour $q$ et une borne pour $r$ en fonction de $p$ qui est fixé.<br>\n",
    "\n",
    "Borne pour $q$:\n",
    "> On sait que $q-1$ divise $(p + h)(p - 1)$ (2g.2) donc on a que $q-1 <= (p + h)(p - 1)$ mais on sait que $h <= p - 1$ (2.g.1) donc $h < p$ <br>\n",
    "> On peut remplacer $h$ par $p$ et on en déduit que $ q <= 2p(p - 1) + 1$<br><br>\n",
    "\n",
    "Borne pour $r$:<br>\n",
    "> $r - 1$ divise $pq - 1$ donc $r - 1 <= pq - 1 $ <br>\n",
    "Or $q$ est borné par $ q <= 2p(p - 1) + 1$<br>\n",
    "Donc : $r <= p(2p(p - 1) + 1)  $"
   ]
  },
  {
   "cell_type": "code",
   "execution_count": 31,
   "metadata": {},
   "outputs": [
    {
     "name": "stdout",
     "output_type": "stream",
     "text": [
      "Les nombres de Carmichael de la forme 3qr : [561]\n",
      "Les nombres de Carmichael de la forme 5qr : [1105, 2465, 10585]\n"
     ]
    }
   ],
   "source": [
    "def generer_p(p):\n",
    "    l=generer_nb_premiers(200)\n",
    "    q = 0\n",
    "    res = []\n",
    "    while q < len(l) and  l[q] <= 2*p*(p-1)+1 :\n",
    "            r = q + 1\n",
    "            while r < len(l) and l[r] <= p*(2*p*(p-1)+1):\n",
    "                nb=(p*(l[r])*(l[q]))\n",
    "                if carmichael(nb):\n",
    "                    res.append(nb)\n",
    "                r = r + 1\n",
    "            q = q + 1\n",
    "    return res\n",
    "print(\"Les nombres de Carmichael de la forme 3qr :\",generer_p(3))\n",
    "print(\"Les nombres de Carmichael de la forme 5qr :\",generer_p(5))\n",
    "                "
   ]
  },
  {
   "cell_type": "markdown",
   "metadata": {},
   "source": [
    "## EXERCICE 3:"
   ]
  },
  {
   "cell_type": "code",
   "execution_count": 13,
   "metadata": {},
   "outputs": [
    {
     "name": "stdout",
     "output_type": "stream",
     "text": [
      "Carmichael: 2 erreurs sur  16  avec test sur 10 bases\n",
      "Compose: 3 erreurs  sur  100000\n",
      "Alea: 0  erreurs sur  1000\n"
     ]
    }
   ],
   "source": [
    "# compose = 0, premier possible 1\n",
    "\n",
    "def gen_compose(n):\n",
    "    l = []\n",
    "    for i in range(n):\n",
    "        a = random.randint(2, 1000)\n",
    "        b = random.randint(2, 1000)\n",
    "        l.append(a*b)\n",
    "    return l\n",
    "\n",
    "def gen_alea(n, N):\n",
    "    l = []\n",
    "    for i in range(n):\n",
    "        a = random.randint(2, N)\n",
    "        l.append(a)\n",
    "    return l\n",
    "\n",
    "def test_fermat(n, T):\n",
    "    for i in range(T):\n",
    "        a = random.randint(2, n-1)\n",
    "        b = my_expo_mod(a, n-1, n)\n",
    "        if b != 1:\n",
    "            return 0\n",
    "    return 1\n",
    "\n",
    "def test():\n",
    "    carmichael = gen_carmichael(100000)\n",
    "    compose = gen_compose(100000)\n",
    "    alea = gen_alea(1000, 100000)\n",
    "\n",
    "    result_carmichael = []\n",
    "    result_compose = []\n",
    "    result_alea = []\n",
    "\n",
    "    erreur_carmichael = 0\n",
    "    erreur_compose = 0\n",
    "    erreur_alea = 0\n",
    "\n",
    "    for n in carmichael:\n",
    "        result1 = test_fermat(n, 10)\n",
    "        result_carmichael.append(result1)\n",
    "        if result1 == 1:\n",
    "            erreur_carmichael = erreur_carmichael + 1\n",
    "\n",
    "    for n in compose:\n",
    "        result2 = test_fermat(n, 10)\n",
    "        result_compose.append(result2)\n",
    "        if result2 == 1:\n",
    "            erreur_compose = erreur_compose + 1\n",
    "\n",
    "    for n in alea:\n",
    "        result3 = test_fermat(n, 10)\n",
    "        result_alea.append(result3)\n",
    "        if first_test(n) != result3:\n",
    "            erreur_alea = erreur_alea + 1\n",
    "\n",
    "\n",
    "    print(\"Carmichael:\", erreur_carmichael, \"erreurs sur \",  len(carmichael),\" avec test sur 10 bases\")\n",
    "    print(\"Compose:\", erreur_compose, \"erreurs  sur \",  len(compose))\n",
    "    print(\"Alea:\", erreur_alea, \" erreurs sur \",  len(alea))\n",
    "\n",
    "test()\n"
   ]
  },
  {
   "cell_type": "code",
   "execution_count": 15,
   "metadata": {},
   "outputs": [
    {
     "name": "stdout",
     "output_type": "stream",
     "text": [
      "probabilité d'erreur :\n",
      "Avec 5 bases 3e-05\n",
      "Avec 10 bases 3e-05\n",
      "Avec 20 bases 0.0\n"
     ]
    }
   ],
   "source": [
    "def proba(T):\n",
    "    erreur = 0\n",
    "    for n in range(3, (10**5)+1):\n",
    "        result = test_fermat(n, T)\n",
    "        if first_test(n) != result:\n",
    "            erreur = erreur + 1\n",
    "    return erreur/10**5\n",
    "print(\"probabilité d'erreur :\")\n",
    "print(\"Avec 5 bases\", proba(5))\n",
    "print(\"Avec 10 bases\", proba(10))\n",
    "print(\"Avec 20 bases\", proba(20))"
   ]
  },
  {
   "cell_type": "markdown",
   "metadata": {},
   "source": [
    "## EXERCICE 4:"
   ]
  },
  {
   "cell_type": "code",
   "execution_count": 2,
   "metadata": {},
   "outputs": [],
   "source": [
    "#False composé True premier\n",
    "def test_miller_rabin(n,T):\n",
    "    if n==2 or n==3:\n",
    "        return True\n",
    "    if n%2==0:\n",
    "        return False\n",
    "    m=n-1\n",
    "    h=0\n",
    "    while(m%2==0):\n",
    "        h+=1\n",
    "        m=m/2\n",
    "    m=int(m)\n",
    "    for i in range(T):\n",
    "        a=random.randint(2,n-2)\n",
    "        b=my_expo_mod(a,m,n)\n",
    "        if b!=1 and b!=n-1:\n",
    "            for j in range(h-1):\n",
    "                k=0\n",
    "                if b!=n-1 and b**2%n==1:\n",
    "                    return False\n",
    "                if b==n-1:\n",
    "                    break\n",
    "                b=b**2%n\n",
    "            if b!=n-1:\n",
    "                return False\n",
    "    return True"
   ]
  },
  {
   "cell_type": "code",
   "execution_count": 20,
   "metadata": {},
   "outputs": [
    {
     "name": "stdout",
     "output_type": "stream",
     "text": [
      "Carmichael: 0 erreurs sur  16\n",
      "Compose: 0 erreurs  sur  100000\n",
      "Alea: 0  erreurs sur  1000\n"
     ]
    }
   ],
   "source": [
    "def test2():\n",
    "    carmichael = gen_carmichael(100000)\n",
    "    compose = gen_compose(100000)\n",
    "    alea = gen_alea(1000, 100000)\n",
    "\n",
    "    result_carmichael = []\n",
    "    result_compose = []\n",
    "    result_alea = []\n",
    "\n",
    "    erreur_carmichael = 0\n",
    "    erreur_compose = 0\n",
    "    erreur_alea = 0\n",
    "\n",
    "    for n in carmichael:\n",
    "        result1 = test_miller_rabin(n, 10)\n",
    "        result_carmichael.append(result1)\n",
    "        if result1 == 1:\n",
    "            erreur_carmichael = erreur_carmichael + 1\n",
    "\n",
    "    for n in compose:\n",
    "        result2 = test_miller_rabin(n, 10)\n",
    "        result_compose.append(result2)\n",
    "        if result2 == 1:\n",
    "            erreur_compose = erreur_compose + 1\n",
    "\n",
    "    for n in alea:\n",
    "        result3 = test_miller_rabin(n,10)\n",
    "        result_alea.append(result3)\n",
    "        if first_test(n) != result3:\n",
    "            erreur_alea = erreur_alea + 1\n",
    "\n",
    "\n",
    "    print(\"Carmichael:\", erreur_carmichael, \"erreurs sur \",  len(carmichael))\n",
    "    print(\"Compose:\", erreur_compose, \"erreurs  sur \",  len(compose))\n",
    "    print(\"Alea:\", erreur_alea, \" erreurs sur \",  len(alea))\n",
    "\n",
    "test2()"
   ]
  },
  {
   "cell_type": "code",
   "execution_count": 8,
   "metadata": {},
   "outputs": [
    {
     "name": "stdout",
     "output_type": "stream",
     "text": [
      "probabilité d'erreur :\n",
      "Avec 2 bases 1e-05\n",
      "Avec 5 bases 0.0\n",
      "Avec 10 bases 0.0\n",
      "Avec 20 bases 0.0\n",
      "Avec 30 bases 0.0\n"
     ]
    }
   ],
   "source": [
    "def proba2(T):\n",
    "    erreur = 0\n",
    "    for n in range(3, (10**5)+1):\n",
    "        result = test_miller_rabin(n, T)\n",
    "        if first_test(n) != result:\n",
    "            erreur = erreur + 1\n",
    "    return erreur/10**5\n",
    "print(\"probabilité d'erreur :\")\n",
    "print(\"Avec 2 bases\", proba2(2))\n",
    "print(\"Avec 5 bases\", proba2(5))\n",
    "print(\"Avec 10 bases\", proba2(10))\n",
    "print(\"Avec 20 bases\", proba2(20))\n",
    "print(\"Avec 30 bases\", proba2(30))\n",
    "\n"
   ]
  },
  {
   "cell_type": "code",
   "execution_count": 25,
   "metadata": {},
   "outputs": [
    {
     "name": "stdout",
     "output_type": "stream",
     "text": [
      "(323, 17, 19)\n"
     ]
    }
   ],
   "source": [
    "def gen_rsa(t): \n",
    "    p=-1\n",
    "    q=-1\n",
    "    for i in range(2**(t-1),(2**t)+1):\n",
    "        if test_miller_rabin(i,64)==True:\n",
    "            p=i\n",
    "            break\n",
    "    for j in range(p+1,(2**t)+1):\n",
    "        if test_miller_rabin(j,64)==True:\n",
    "            q=j\n",
    "            break\n",
    "    if q*p < 0 :\n",
    "        return -1\n",
    "# Si les deux nombres ou un des deux n'existe pas, la fonction retourne -1\n",
    "    return p*q,p,q\n",
    "\n",
    "print(gen_rsa(5))"
   ]
  },
  {
   "cell_type": "code",
   "execution_count": null,
   "metadata": {},
   "outputs": [],
   "source": []
  }
 ],
 "metadata": {
  "kernelspec": {
   "display_name": "Python 3",
   "language": "python",
   "name": "python3"
  },
  "language_info": {
   "codemirror_mode": {
    "name": "ipython",
    "version": 3
   },
   "file_extension": ".py",
   "mimetype": "text/x-python",
   "name": "python",
   "nbconvert_exporter": "python",
   "pygments_lexer": "ipython3",
   "version": "3.8.6"
  }
 },
 "nbformat": 4,
 "nbformat_minor": 2
}
